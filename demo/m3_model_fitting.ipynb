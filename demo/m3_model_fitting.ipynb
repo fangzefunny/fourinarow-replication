{
 "cells": [
  {
   "cell_type": "code",
   "execution_count": 1,
   "metadata": {},
   "outputs": [
    {
     "name": "stdout",
     "output_type": "stream",
     "text": [
      "pygame 2.6.1 (SDL 2.28.4, Python 3.10.16)\n",
      "Hello from the pygame community. https://www.pygame.org/contribute.html\n"
     ]
    }
   ],
   "source": [
    "import pickle\n",
    "import pandas as pd\n",
    "import numpy as np\n",
    "from scipy.special import softmax\n",
    "#from pyibs import IBS\n",
    "from pybads import BADS\n",
    "\n",
    "import sys\n",
    "sys.path.append('..')\n",
    "from utils.env_fn import *\n",
    "from utils.model import *\n",
    "from utils.myibs import IBS"
   ]
  },
  {
   "cell_type": "markdown",
   "metadata": {},
   "source": [
    "## Run IBS + BADS using a simple example "
   ]
  },
  {
   "cell_type": "code",
   "execution_count": 2,
   "metadata": {},
   "outputs": [],
   "source": [
    "# the real policy \n",
    "def real_policy(theta, s):\n",
    "    p = np.array([[1/2, 1/6, 1/3],\n",
    "                  [1/4, 1/2, 1/4]])\n",
    "    return softmax(theta*p[s])\n",
    "\n",
    "def real_nll(theta, s, r):\n",
    "    p = np.array([[1/2, 1/6, 1/3],\n",
    "                  [1/4, 1/2, 1/4]])\n",
    "    probs = np.array([softmax(theta*p[i])[j] for i, j in zip(s, r)])\n",
    "    return -np.sum(np.log(probs))\n",
    "\n",
    "# define the generator\n",
    "def policy_generator(theta, s):\n",
    "    p = np.array([[1/2, 1/6, 1/3],\n",
    "                  [1/4, 1/2, 1/4]])\n",
    "    probs = np.array([softmax(theta*p[i]) for i in s])\n",
    "    # Sample a choice for each row based on its probability distribution\n",
    "    choices = np.array([np.random.choice(range(3), p=prob) for prob in probs])\n",
    "    return choices"
   ]
  },
  {
   "cell_type": "code",
   "execution_count": 3,
   "metadata": {},
   "outputs": [
    {
     "name": "stdout",
     "output_type": "stream",
     "text": [
      "stimulus (first 10): [0 1 0 0 1 0 0 1 0 1]\n",
      "response (first 10): [0 2 0 1 2 2 1 0 1 1]\n"
     ]
    }
   ],
   "source": [
    "# generate a list of input \n",
    "orig_theta = 4\n",
    "s = np.random.randint(0, 2, size=100)\n",
    "r = policy_generator(orig_theta, s)\n",
    "print('stimulus (first 10):', s[:10])\n",
    "print('response (first 10):', r[:10])"
   ]
  },
  {
   "cell_type": "code",
   "execution_count": 6,
   "metadata": {},
   "outputs": [
    {
     "name": "stdout",
     "output_type": "stream",
     "text": [
      "theta=0.1: real_nll=109.2777, est_nll=106.7908\n",
      "theta=0.5: real_nll=107.1076, est_nll=107.9549\n",
      "theta=1: real_nll=104.7669, est_nll=102.5443\n",
      "theta=2: real_nll=101.3330, est_nll=103.3072\n",
      "theta=4: real_nll=99.3659, est_nll=98.7399\n",
      "theta=8: real_nll=112.4478, est_nll=110.6434\n"
     ]
    }
   ],
   "source": [
    "# estimate the nll using IBS\n",
    "ibs = IBS(\n",
    "    policy_generator,\n",
    "    response_matrix=r, \n",
    "    design_matrix=s,\n",
    "    vectorized=True,\n",
    "    max_iter=10000,\n",
    "    max_time=300,\n",
    ")\n",
    "for theta in [.1, .5, 1, 2, 4, 8]:\n",
    "    nll_real = real_nll(theta, s, r)\n",
    "    nll_est = ibs(theta, num_reps=20)\n",
    "    print(f'theta={theta}: real_nll={nll_real:.4f}, est_nll={nll_est:.4f}')"
   ]
  },
  {
   "cell_type": "code",
   "execution_count": 8,
   "metadata": {},
   "outputs": [
    {
     "name": "stdout",
     "output_type": "stream",
     "text": [
      "original theta: 4\n",
      "estimated theta: [3.82595655]\n"
     ]
    }
   ],
   "source": [
    "# fit parameter using IBS\n",
    "target = lambda theta: ibs(theta, num_reps=20)\n",
    "\n",
    "# fit model using bads\n",
    "lb = np.array([0])\n",
    "ub = np.array([20])\n",
    "plb = np.array([.1])\n",
    "pub = np.array([5])\n",
    "theta0 = plb + np.random.rand(1) * (pub - plb)\n",
    "bads_opt = {\n",
    "    'uncertainty_handling': True,\n",
    "    'noise_final_samples': 0,\n",
    "    'display': 'off',\n",
    "}\n",
    "bads_ibs = BADS(\n",
    "    target,\n",
    "    theta0,\n",
    "    lb,\n",
    "    ub,\n",
    "    plb,\n",
    "    pub,\n",
    "    options=bads_opt\n",
    ")\n",
    "\n",
    "theta_ibs = bads_ibs.optimize()\n",
    "print('original theta:', orig_theta)\n",
    "print('estimated theta:', theta_ibs['x'])"
   ]
  },
  {
   "cell_type": "markdown",
   "metadata": {},
   "source": []
  }
 ],
 "metadata": {
  "kernelspec": {
   "display_name": "hcl",
   "language": "python",
   "name": "python3"
  },
  "language_info": {
   "codemirror_mode": {
    "name": "ipython",
    "version": 3
   },
   "file_extension": ".py",
   "mimetype": "text/x-python",
   "name": "python",
   "nbconvert_exporter": "python",
   "pygments_lexer": "ipython3",
   "version": "3.10.16"
  }
 },
 "nbformat": 4,
 "nbformat_minor": 2
}
